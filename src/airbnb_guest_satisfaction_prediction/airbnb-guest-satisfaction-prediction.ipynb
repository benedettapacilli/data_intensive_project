{
 "cells": [
  {
   "attachments": {},
   "cell_type": "markdown",
   "metadata": {},
   "source": [
    "# <center>**Prediction of Airbnb guest satisfaction based on their characteristics**</center></h1>\n",
    "## <center>Data intensive application programming project - 2022/2023</center></h2>\n",
    "### <center>Salvatore Antonio Addimando <br/> salvatore.addimando@studio.unibo.it <br/> ID: 970539 <br/> <br/> Benedetta Pacilli <br/> benedetta.pacilli@studio.unibo.it <br/> ID: 975296 </center></h3>\n"
   ]
  },
  {
   "attachments": {},
   "cell_type": "markdown",
   "metadata": {},
   "source": [
    "### Libraries import\n",
    "Per prima cosa carichiamo le librerie per effettuare operazioni sui dati\n",
    "\n",
    "First of all, we import the libraries to perform operations on data\n",
    "+ NumPy to create and operate on N-dimensional arrays\n",
    "+ pandas to load and manipulate in tabular format"
   ]
  },
  {
   "cell_type": "code",
   "execution_count": 5,
   "metadata": {},
   "outputs": [],
   "source": [
    "import numpy as np\n",
    "import pandas as pd"
   ]
  },
  {
   "attachments": {},
   "cell_type": "markdown",
   "metadata": {},
   "source": [
    "Other libraries will be imported later when needed"
   ]
  },
  {
   "attachments": {},
   "cell_type": "markdown",
   "metadata": {},
   "source": [
    "### Data import\n",
    "The dataset used for this project is an [Airbnb Guest Satisfaction Dataset](https://www.kaggle.com/datasets/dipeshkhemani/airbnb-cleaned-europe-dataset) from Kaggle. It contains information about Airbnb listings in 9 european cities and the satisfaction of the guests who stayed there. The dataset is composed of 41715 rows and 19 columns, each row representing a different listing and each column a different feature. The features are the following:\n",
    "+ **City**: the city where the listing is located\n",
    "+ **Price**: the price per night of the listing\n",
    "+ **Day**: indicates if it is a weekday or a weekend\n",
    "+ **Room type**: the type of room of the listing (entire home, private room or shared room)\n",
    "+ **Shared room**: indicates if the room is shared by anyone\n",
    "+ **Private room**: indicates if the Airbnb has a private room available\n",
    "+ **Person capacity**: maximum number of people that can stay in the listing\n",
    "+ **Superhost**: indicates if the host is a superhost or not (the superhost status is awarded to experienced and highly-rated hosts who consistently provide exceptional hospitality to their guests)\n",
    "+ **Multiple rooms**: indicates if the listing has more than one room\n",
    "+ **Business**: indicates if the business has more than 4 listings\n",
    "+ **Cleanliness rating**: rating of the cleanliness of the listing (2-10)\n",
    "+ **Guest satisfaction**: rating of the satisfaction of the guests (20-100)\n",
    "+ **Bedrooms**: number of bedrooms of the listing\n",
    "+ **City Center (km)**: distance from the city center in km\n",
    "+ **Metro Distance (km)**: distance from the nearest metro station in km\n",
    "+ **Attraction Index**: indicates the number of attractions in the area of the listing (15-4.51k)\n",
    "+ **Restaurant Index**: indicates the number of restaurants in the area of the listing (19-6.71k)\n",
    "+ **Normalised Attraction Index**: normalised version of the Attraction Index (0-100)\n",
    "+ **Normalised Restaurant Index**: normalised version of the Restaurant Index (0-100)\n",
    "\n",
    "The variable that we want to predict is the **Guest satisfaction**. This variable is a integer variable that ranges from 20 to 100. The other variables are the features that we will use to predict the satisfaction.\n",
    "\n",
    "Now we can load the dataset. To load the dataset we need to import the os library to get the path of the dataset and the kaggel library to download the dataset directly from Kaggle. Pandas is used to read the dataset file."
   ]
  },
  {
   "cell_type": "code",
   "execution_count": null,
   "metadata": {},
   "outputs": [],
   "source": [
    "import os.path as os\n",
    "import kaggle\n",
    "if not os.path.exists(\"Aemf1.csv\"):\n",
    "    kaggle.api.authenticate()\n",
    "    kaggle.api.dataset_download_files(\n",
    "        'dipeshkhemani/airbnb-cleaned-europe-dataset', path='.', unzip=True)\n",
    "dataset = pd.read_csv('Aemf1.csv')"
   ]
  },
  {
   "attachments": {},
   "cell_type": "markdown",
   "metadata": {},
   "source": [
    "We now show some more information about the dataset by using the pandas functions `info()` and `head()`."
   ]
  },
  {
   "cell_type": "code",
   "execution_count": null,
   "metadata": {},
   "outputs": [],
   "source": [
    "dataset.info(verbose=False, memory_usage=\"deep\");"
   ]
  },
  {
   "cell_type": "code",
   "execution_count": null,
   "metadata": {},
   "outputs": [],
   "source": [
    "dataset.head(5)"
   ]
  }
 ],
 "metadata": {
  "kernelspec": {
   "display_name": "Python 3",
   "language": "python",
   "name": "python3"
  },
  "language_info": {
   "codemirror_mode": {
    "name": "ipython",
    "version": 3
   },
   "file_extension": ".py",
   "mimetype": "text/x-python",
   "name": "python",
   "nbconvert_exporter": "python",
   "pygments_lexer": "ipython3",
   "version": "3.11.2"
  },
  "orig_nbformat": 4
 },
 "nbformat": 4,
 "nbformat_minor": 2
}
